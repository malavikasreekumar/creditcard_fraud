{
  "nbformat": 4,
  "nbformat_minor": 0,
  "metadata": {
    "colab": {
      "name": "Creditcard.ipynb",
      "provenance": [],
      "collapsed_sections": [],
      "toc_visible": true,
      "authorship_tag": "ABX9TyMqRY+ELWSm12Km27Bttr2T",
      "include_colab_link": true
    },
    "kernelspec": {
      "name": "python3",
      "display_name": "Python 3"
    }
  },
  "cells": [
    {
      "cell_type": "markdown",
      "metadata": {
        "id": "view-in-github",
        "colab_type": "text"
      },
      "source": [
        "<a href=\"https://colab.research.google.com/github/malavikasreekumar/creditcard_fraud/blob/master/Creditcard.ipynb\" target=\"_parent\"><img src=\"https://colab.research.google.com/assets/colab-badge.svg\" alt=\"Open In Colab\"/></a>"
      ]
    },
    {
      "cell_type": "code",
      "metadata": {
        "id": "eor3bgAihZ6Y",
        "colab_type": "code",
        "outputId": "66a2fa9f-faec-41b7-8674-ada683042b9d",
        "colab": {
          "base_uri": "https://localhost:8080/",
          "height": 125
        }
      },
      "source": [
        "from google.colab import drive\n",
        "drive.mount('/content/gdrive')"
      ],
      "execution_count": 0,
      "outputs": [
        {
          "output_type": "stream",
          "text": [
            "Go to this URL in a browser: https://accounts.google.com/o/oauth2/auth?client_id=947318989803-6bn6qk8qdgf4n4g3pfee6491hc0brc4i.apps.googleusercontent.com&redirect_uri=urn%3aietf%3awg%3aoauth%3a2.0%3aoob&response_type=code&scope=email%20https%3a%2f%2fwww.googleapis.com%2fauth%2fdocs.test%20https%3a%2f%2fwww.googleapis.com%2fauth%2fdrive%20https%3a%2f%2fwww.googleapis.com%2fauth%2fdrive.photos.readonly%20https%3a%2f%2fwww.googleapis.com%2fauth%2fpeopleapi.readonly\n",
            "\n",
            "Enter your authorization code:\n",
            "··········\n",
            "Mounted at /content/gdrive\n"
          ],
          "name": "stdout"
        }
      ]
    },
    {
      "cell_type": "code",
      "metadata": {
        "id": "mjnKkFXrh11I",
        "colab_type": "code",
        "outputId": "2b7bd922-f44e-435c-e179-d197c5e75458",
        "colab": {
          "base_uri": "https://localhost:8080/",
          "height": 34
        }
      },
      "source": [
        "cd gdrive"
      ],
      "execution_count": 0,
      "outputs": [
        {
          "output_type": "stream",
          "text": [
            "/content/gdrive\n"
          ],
          "name": "stdout"
        }
      ]
    },
    {
      "cell_type": "code",
      "metadata": {
        "id": "FaL0dHTaiAYn",
        "colab_type": "code",
        "outputId": "9ab8d1eb-f77f-4919-f1f5-a2665bdd5e04",
        "colab": {
          "base_uri": "https://localhost:8080/",
          "height": 34
        }
      },
      "source": [
        "cd My Drive"
      ],
      "execution_count": 0,
      "outputs": [
        {
          "output_type": "stream",
          "text": [
            "/content/gdrive/My Drive\n"
          ],
          "name": "stdout"
        }
      ]
    },
    {
      "cell_type": "code",
      "metadata": {
        "id": "YSKTZT4nirCY",
        "colab_type": "code",
        "outputId": "4ac4fba0-d4d5-4193-a19a-c3ffc376e941",
        "colab": {
          "base_uri": "https://localhost:8080/",
          "height": 34
        }
      },
      "source": [
        "cd creditcardfraud/"
      ],
      "execution_count": 0,
      "outputs": [
        {
          "output_type": "stream",
          "text": [
            "/content/gdrive/My Drive/creditcardfraud\n"
          ],
          "name": "stdout"
        }
      ]
    },
    {
      "cell_type": "code",
      "metadata": {
        "id": "3sr_CLmDiLt_",
        "colab_type": "code",
        "colab": {}
      },
      "source": [
        "import numpy as np\n",
        "import pandas as pd\n",
        "\n",
        "from sklearn.metrics import confusion_matrix,accuracy_score\n",
        "from sklearn import metrics\n",
        "df=pd.read_csv('creditcard.csv')\n",
        "X=df.iloc[:,0:30].values\n",
        "y=df.iloc[:,30].values"
      ],
      "execution_count": 0,
      "outputs": []
    },
    {
      "cell_type": "code",
      "metadata": {
        "id": "x_C-2YT1jdSS",
        "colab_type": "code",
        "outputId": "e150e81c-720c-4673-f523-996278997ba7",
        "colab": {
          "base_uri": "https://localhost:8080/",
          "height": 263
        }
      },
      "source": [
        "y,X"
      ],
      "execution_count": 0,
      "outputs": [
        {
          "output_type": "execute_result",
          "data": {
            "text/plain": [
              "(array([0, 0, 0, ..., 0, 0, 0]),\n",
              " array([[ 0.00000000e+00, -1.35980713e+00, -7.27811733e-02, ...,\n",
              "          1.33558377e-01, -2.10530535e-02,  1.49620000e+02],\n",
              "        [ 0.00000000e+00,  1.19185711e+00,  2.66150712e-01, ...,\n",
              "         -8.98309914e-03,  1.47241692e-02,  2.69000000e+00],\n",
              "        [ 1.00000000e+00, -1.35835406e+00, -1.34016307e+00, ...,\n",
              "         -5.53527940e-02, -5.97518406e-02,  3.78660000e+02],\n",
              "        ...,\n",
              "        [ 1.72788000e+05,  1.91956501e+00, -3.01253846e-01, ...,\n",
              "          4.45477214e-03, -2.65608286e-02,  6.78800000e+01],\n",
              "        [ 1.72788000e+05, -2.40440050e-01,  5.30482513e-01, ...,\n",
              "          1.08820735e-01,  1.04532821e-01,  1.00000000e+01],\n",
              "        [ 1.72792000e+05, -5.33412522e-01, -1.89733337e-01, ...,\n",
              "         -2.41530880e-03,  1.36489143e-02,  2.17000000e+02]]))"
            ]
          },
          "metadata": {
            "tags": []
          },
          "execution_count": 9
        }
      ]
    },
    {
      "cell_type": "code",
      "metadata": {
        "id": "trkmh33sjdz8",
        "colab_type": "code",
        "colab": {}
      },
      "source": [
        "from sklearn.model_selection import train_test_split\n",
        "X_train,X_test,y_train,y_test=train_test_split(X,y,test_size=0.25)"
      ],
      "execution_count": 0,
      "outputs": []
    },
    {
      "cell_type": "code",
      "metadata": {
        "id": "rvs-68gclM74",
        "colab_type": "code",
        "colab": {}
      },
      "source": [
        "#feature scaling\n",
        "from sklearn.preprocessing import StandardScaler\n",
        "sc_X=StandardScaler()\n",
        "X_train=sc_X.fit_transform(X_train)\n",
        "X_test=sc_X.fit_transform(X_test)"
      ],
      "execution_count": 0,
      "outputs": []
    },
    {
      "cell_type": "markdown",
      "metadata": {
        "id": "Om5IVHf3mq9x",
        "colab_type": "text"
      },
      "source": [
        "# **Logistic Regression**"
      ]
    },
    {
      "cell_type": "code",
      "metadata": {
        "id": "KybRnbe9kS1x",
        "colab_type": "code",
        "outputId": "d38648bc-6eeb-473f-e46d-5c81ebb36ac6",
        "colab": {
          "base_uri": "https://localhost:8080/",
          "height": 70
        }
      },
      "source": [
        "from sklearn.linear_model import LogisticRegression\n",
        "lr_classifier=LogisticRegression()\n",
        "lr_classifier.fit(X_train,y_train)\n",
        "\n",
        "lr_pred=lr_classifier.predict(X_test)\n",
        "lr_cm=confusion_matrix(y_test,lr_pred)\n",
        "\n",
        "print(\"Accuracy=\",metrics.accuracy_score(y_test,lr_pred))\n",
        "print(lr_cm)"
      ],
      "execution_count": 22,
      "outputs": [
        {
          "output_type": "stream",
          "text": [
            "Accuracy= 0.9992135052386169\n",
            "[[71078     9]\n",
            " [   47    68]]\n"
          ],
          "name": "stdout"
        }
      ]
    },
    {
      "cell_type": "markdown",
      "metadata": {
        "id": "3DXtDGKtA71Q",
        "colab_type": "text"
      },
      "source": [
        "## **KNN**"
      ]
    },
    {
      "cell_type": "code",
      "metadata": {
        "id": "Swxlg8Lj0GpX",
        "colab_type": "code",
        "outputId": "b9653099-494c-47a2-fe09-79bb6bd2573d",
        "colab": {
          "base_uri": "https://localhost:8080/",
          "height": 70
        }
      },
      "source": [
        "from sklearn.neighbors import KNeighborsClassifier\n",
        "knn_classifier=KNeighborsClassifier(n_neighbors=3,metric='manhattan',p=2)\n",
        "knn_classifier.fit(X_train, y_train)\n",
        "\n",
        "knn_pred = knn_classifier.predict(X_test)\n",
        "knn_cm = confusion_matrix(y_test, knn_pred)\n",
        "\n",
        "\n",
        "\n",
        "print(\"Accuracy=\",metrics.accuracy_score(y_test, knn_pred))\n",
        "\n",
        "print(knn_cm)"
      ],
      "execution_count": 29,
      "outputs": [
        {
          "output_type": "stream",
          "text": [
            "Accuracy= 0.999592708069998\n",
            "[[71082     5]\n",
            " [   24    91]]\n"
          ],
          "name": "stdout"
        }
      ]
    },
    {
      "cell_type": "markdown",
      "metadata": {
        "id": "inuabn4hAgUt",
        "colab_type": "text"
      },
      "source": [
        "## **Decision Tree**"
      ]
    },
    {
      "cell_type": "code",
      "metadata": {
        "id": "dbq93aT18ERQ",
        "colab_type": "code",
        "colab": {
          "base_uri": "https://localhost:8080/",
          "height": 70
        },
        "outputId": "27824329-6132-44f2-e157-56a6b0059f27"
      },
      "source": [
        "from sklearn.tree import DecisionTreeClassifier\n",
        "dtree_classifier=DecisionTreeClassifier()\n",
        "dtree_classifier.fit(X_train,y_train)\n",
        "\n",
        "dtree_pred=dtree_classifier.predict(X_test)\n",
        "dtree_cm=confusion_matrix(y_test,dtree_pred)\n",
        "\n",
        "print(\"Accuracy=\",metrics.accuracy_score(y_test,dtree_pred))\n",
        "print(dtree_cm)"
      ],
      "execution_count": 25,
      "outputs": [
        {
          "output_type": "stream",
          "text": [
            "Accuracy= 0.999115193393444\n",
            "[[71052    35]\n",
            " [   28    87]]\n"
          ],
          "name": "stdout"
        }
      ]
    },
    {
      "cell_type": "markdown",
      "metadata": {
        "id": "f0Tm04vjAUNI",
        "colab_type": "text"
      },
      "source": [
        "## **Naive Bayes**"
      ]
    },
    {
      "cell_type": "code",
      "metadata": {
        "id": "Pz5hvune9XEr",
        "colab_type": "code",
        "colab": {
          "base_uri": "https://localhost:8080/",
          "height": 70
        },
        "outputId": "a04f5f48-84e7-455d-d997-b39176cf715b"
      },
      "source": [
        "from sklearn.naive_bayes import GaussianNB\n",
        "nb_classifier=GaussianNB()\n",
        "nb_classifier.fit(X_train,y_train)\n",
        "\n",
        "nb_pred =nb_classifier.predict(X_test)\n",
        "\n",
        "nb_cm = confusion_matrix(y_test, nb_pred)\n",
        "\n",
        "print(\"Accuracy=\",metrics.accuracy_score(y_test, nb_pred))\n",
        "\n",
        "print(nb_cm)"
      ],
      "execution_count": 26,
      "outputs": [
        {
          "output_type": "stream",
          "text": [
            "Accuracy= 0.9791578888233476\n",
            "[[69623  1464]\n",
            " [   20    95]]\n"
          ],
          "name": "stdout"
        }
      ]
    },
    {
      "cell_type": "markdown",
      "metadata": {
        "id": "Pn5S2B2oAxfM",
        "colab_type": "text"
      },
      "source": [
        "## **SVM**"
      ]
    },
    {
      "cell_type": "code",
      "metadata": {
        "id": "wJBPEYEY9p4R",
        "colab_type": "code",
        "colab": {
          "base_uri": "https://localhost:8080/",
          "height": 70
        },
        "outputId": "6271f761-c342-423f-ebd8-c3a825c2739c"
      },
      "source": [
        "from sklearn.svm import SVC\n",
        "svc_classfier=SVC()\n",
        "svc_classfier.fit(X_train,y_train)\n",
        "\n",
        "svc_pred=svc_classfier.predict(X_test)\n",
        "svc_cm=confusion_matrix(y_test,svc_pred)\n",
        "\n",
        "print(\"Accuracy=\",metrics.accuracy_score(y_test, svc_pred))\n",
        "print(svc_cm)"
      ],
      "execution_count": 28,
      "outputs": [
        {
          "output_type": "stream",
          "text": [
            "Accuracy= 0.9993399061824106\n",
            "[[71084     3]\n",
            " [   44    71]]\n"
          ],
          "name": "stdout"
        }
      ]
    }
  ]
}